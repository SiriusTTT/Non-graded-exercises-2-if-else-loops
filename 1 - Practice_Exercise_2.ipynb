{
 "cells": [
  {
   "cell_type": "markdown",
   "metadata": {},
   "source": [
    "1. Ask user to enter a string and check that it is made up only alphabets:"
   ]
  },
  {
   "cell_type": "code",
   "execution_count": null,
   "metadata": {},
   "outputs": [],
   "source": [
    "user_input = input(\"input a  string: \")\n",
    "\n",
    "if user_input.isalpha():\n",
    "    print(\"This string only contains letters.\")\n",
    "else:\n",
    "    print(\"This string contains non alphabetical characters.\")\n"
   ]
  },
  {
   "cell_type": "markdown",
   "metadata": {},
   "source": [
    "2. Now, make sure that the string is made up of both alphabets and numbers:\n",
    "\n",
    "TRY using isalnum() function and then entering only alhpabets in the string and see what happens."
   ]
  },
  {
   "cell_type": "code",
   "execution_count": null,
   "metadata": {},
   "outputs": [],
   "source": [
    "user_input = input(\"Please enter a string containing letters and numbers: \")\n",
    "\n",
    "if user_input.isalnum():\n",
    "    \n",
    "    if any(char.isalpha() for char in user_input) and any(char.isdigit() for char in user_input):\n",
    "        print(\"\")\n",
    "    else:\n",
    "        print(\"This string contains letters and numbers.\")\n",
    "else:\n",
    "    print(\"This string contains non alphanumeric characters.\")\n"
   ]
  },
  {
   "cell_type": "markdown",
   "metadata": {},
   "source": [
    "3. Now, make sure that the string is made up of both alphabets and at least one number:\n"
   ]
  },
  {
   "cell_type": "code",
   "execution_count": null,
   "metadata": {},
   "outputs": [],
   "source": [
    "user_input = input(\"Please enter a string containing at least two letters and one number: \")\n",
    "\n",
    "\n",
    "if user_input.isalnum():\n",
    "\n",
    "    if sum(char.isalpha() for char in user_input) >= 2 and any(char.isdigit() for char in user_input):\n",
    "        print(\"This string contains at least two letters and one number.\")\n",
    "    else:\n",
    "        print(\"The string does not meet the condition.\")\n",
    "else:\n",
    "    print(\"This string contains non alphanumeric characters.\")\n"
   ]
  },
  {
   "cell_type": "markdown",
   "metadata": {},
   "source": [
    "4. Now, make sure that the string is made up of both alphabets, at least one number, and at least one special character:"
   ]
  },
  {
   "cell_type": "code",
   "execution_count": null,
   "metadata": {},
   "outputs": [],
   "source": [
    "import string\n",
    "\n",
    "user_input = input(\"请输入一个包含字母、至少一个数字和一个特殊字符的字符串: \")\n",
    "\n",
    "special_characters = string.punctuation\n",
    "\n",
    "if (\n",
    "    any(char.isalpha() for char in user_input) and \n",
    "    any(char.isdigit() for char in user_input) and \n",
    "    any(char in special_characters for char in user_input)\n",
    "):\n",
    "    print(\"该字符串包含字母、至少一个数字和一个特殊字符。\")\n",
    "else:\n",
    "    print(\"该字符串不满足条件。\")\n"
   ]
  },
  {
   "cell_type": "markdown",
   "metadata": {},
   "source": [
    "5. Now, modify the above code so that if the user enters an invalid string, the program should ask the user to enter another string again, and keep asking until a valid string has been entered."
   ]
  },
  {
   "cell_type": "code",
   "execution_count": null,
   "metadata": {},
   "outputs": [],
   "source": []
  }
 ],
 "metadata": {
  "kernelspec": {
   "display_name": "Python 3",
   "language": "python",
   "name": "python3"
  },
  "language_info": {
   "codemirror_mode": {
    "name": "ipython",
    "version": 3
   },
   "file_extension": ".py",
   "mimetype": "text/x-python",
   "name": "python",
   "nbconvert_exporter": "python",
   "pygments_lexer": "ipython3",
   "version": "3.11.5"
  }
 },
 "nbformat": 4,
 "nbformat_minor": 2
}
